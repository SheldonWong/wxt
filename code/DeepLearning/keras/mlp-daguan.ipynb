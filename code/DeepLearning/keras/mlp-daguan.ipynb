{
 "cells": [
  {
   "cell_type": "markdown",
   "metadata": {},
   "source": [
    "## 全连接神经网络\n",
    "处理文本分类问题\n",
    "1. 原始文本转换成tfidf特征向量\n",
    "2. 将特征向量feed给全连接网络\n",
    "\n",
    "keras"
   ]
  },
  {
   "cell_type": "code",
   "execution_count": 1,
   "metadata": {},
   "outputs": [
    {
     "name": "stderr",
     "output_type": "stream",
     "text": [
      "Using TensorFlow backend.\n"
     ]
    }
   ],
   "source": [
    "from __future__ import print_function\n",
    "\n",
    "from sklearn.feature_extraction.text import TfidfVectorizer\n",
    "from sklearn.model_selection import train_test_split\n",
    "from sklearn.metrics import accuracy_score\n",
    "from sklearn.metrics import classification_report\n",
    "import keras\n",
    "from keras.models import Sequential\n",
    "from keras.layers import Dense, Dropout\n",
    "from keras.optimizers import RMSprop\n",
    "\n",
    "import numpy as np \n",
    "import pandas as pd \n"
   ]
  },
  {
   "cell_type": "code",
   "execution_count": 2,
   "metadata": {},
   "outputs": [],
   "source": [
    "batch_size = 4000\n",
    "num_classes = 19\n",
    "epochs = 10"
   ]
  },
  {
   "cell_type": "markdown",
   "metadata": {},
   "source": [
    "读取数据\n",
    "drop掉不用的信息\n",
    "把词转换成特征向量\n",
    "hua"
   ]
  },
  {
   "cell_type": "code",
   "execution_count": 3,
   "metadata": {},
   "outputs": [
    {
     "name": "stdout",
     "output_type": "stream",
     "text": [
      "read data\n",
      "feature:\n",
      "[[0. 0. 0. 0. 0. 0. 0. 0. 0. 0. 0. 1. 0. 0. 0. 0. 0. 0. 0.]\n",
      " [0. 0. 0. 0. 0. 0. 0. 0. 0. 0. 0. 0. 0. 0. 0. 0. 0. 0. 1.]\n",
      " [0. 0. 1. 0. 0. 0. 0. 0. 0. 0. 0. 0. 0. 0. 0. 0. 0. 0. 0.]\n",
      " [1. 0. 0. 0. 0. 0. 0. 0. 0. 0. 0. 0. 0. 0. 0. 0. 0. 0. 0.]\n",
      " [0. 0. 0. 0. 0. 0. 0. 0. 0. 1. 0. 0. 0. 0. 0. 0. 0. 0. 0.]\n",
      " [0. 0. 0. 0. 0. 0. 0. 0. 0. 0. 0. 0. 1. 0. 0. 0. 0. 0. 0.]\n",
      " [0. 0. 0. 0. 0. 0. 0. 0. 0. 0. 0. 0. 0. 1. 0. 0. 0. 0. 0.]\n",
      " [0. 0. 0. 0. 0. 0. 0. 0. 0. 0. 0. 0. 1. 0. 0. 0. 0. 0. 0.]]\n",
      "(8, 419)\n"
     ]
    }
   ],
   "source": [
    "\n",
    "# ~/Downloads/train_set.csv\n",
    "# ~/workspace/sublime/daguan/train_sample.csv\n",
    "print('read data')\n",
    "df_train = pd.read_csv('~/workspace/sublime/daguan/train_sample.csv')\n",
    "df_test = pd.read_csv('~/workspace/sublime/daguan/train_sample.csv')\n",
    "\n",
    "df_train.drop(columns=['article','id'], inplace=True)\n",
    "df_test.drop(columns=['article'], inplace=True)\n",
    "\n",
    "print('feature:')\n",
    "# 把文章转换为tfidf向量\n",
    "vectorizer = TfidfVectorizer(ngram_range=(1,2), min_df=3, max_df=0.9, use_idf=True,smooth_idf=True, sublinear_tf=True,max_features=100000)\n",
    "vectorizer.fit(df_train['word_seg'])\n",
    "\n",
    "\n",
    "\n",
    "# 训练的时候只用到词\n",
    "x_train = vectorizer.transform(df_train['word_seg'])\n",
    "y_train = df_train['class'] - 1\n",
    "x_test = vectorizer.transform(df_test['word_seg'])\n",
    "\n",
    "\n",
    "\n",
    "\n",
    "train_X,test_X, train_y, test_y = train_test_split(x_train,\n",
    "                                                   y_train,\n",
    "                                                   test_size = 0.2,\n",
    "                                                   random_state = 0)\n",
    "\n",
    "# 把cat转换成onehot\n",
    "train_y = keras.utils.to_categorical(train_y, num_classes)\n",
    "test_y = keras.utils.to_categorical(test_y, num_classes)\n",
    "\n",
    "print(train_y)\n",
    "print(train_X.shape)"
   ]
  },
  {
   "cell_type": "code",
   "execution_count": null,
   "metadata": {},
   "outputs": [],
   "source": [
    "\n",
    "# 100000->10000->1000->100->19\n",
    "# 模型 x_train.shape[1]\n",
    "model = Sequential()\n",
    "model.add(Dense(10000, activation='relu', input_shape=(train_X.shape[1],)))\n",
    "model.add(Dropout(0.2))\n",
    "model.add(Dense(1000, activation='relu'))\n",
    "model.add(Dropout(0.2))\n",
    "model.add(Dense(100, activation='relu'))\n",
    "model.add(Dropout(0.2))\n",
    "model.add(Dense(num_classes, activation='softmax'))\n",
    "\n",
    "model.compile(loss='categorical_crossentropy',\n",
    "              optimizer=RMSprop(),\n",
    "              metrics=['accuracy'])\n",
    "\n",
    "history = model.fit(train_X, train_y,\n",
    "                    batch_size=batch_size,\n",
    "                    epochs=epochs,\n",
    "                    verbose=1,\n",
    "                    validation_data=(test_X, test_y))\n",
    "\n",
    "model.save('mlp.h5')\n",
    "\n",
    "# 评价\n",
    "score = model.evaluate(x_test, y_test, verbose=0)\n",
    "print('Test loss:', score[0])\n",
    "print('Test accuracy:', score[1])\n"
   ]
  }
 ],
 "metadata": {
  "kernelspec": {
   "display_name": "Python 3",
   "language": "python",
   "name": "python3"
  },
  "language_info": {
   "codemirror_mode": {
    "name": "ipython",
    "version": 3
   },
   "file_extension": ".py",
   "mimetype": "text/x-python",
   "name": "python",
   "nbconvert_exporter": "python",
   "pygments_lexer": "ipython3",
   "version": "3.6.3"
  }
 },
 "nbformat": 4,
 "nbformat_minor": 2
}
