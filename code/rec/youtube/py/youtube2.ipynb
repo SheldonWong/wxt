{
 "cells": [
  {
   "cell_type": "markdown",
   "metadata": {},
   "source": [
    "### 1. 电影特征"
   ]
  },
  {
   "cell_type": "code",
   "execution_count": 1,
   "metadata": {},
   "outputs": [
    {
     "name": "stderr",
     "output_type": "stream",
     "text": [
      "\n"
     ]
    },
    {
     "name": "stdout",
     "output_type": "stream",
     "text": [
      "<MovieInfo id(1), title(Toy Story ), categories([u'Animation', u\"Children's\", u'Comedy'])>\n"
     ]
    }
   ],
   "source": [
    "import paddle\n",
    "movie_info = paddle.dataset.movielens.movie_info()\n",
    "print movie_info.values()[0]"
   ]
  },
  {
   "cell_type": "markdown",
   "metadata": {},
   "source": [
    "### 2. 用户特征"
   ]
  },
  {
   "cell_type": "code",
   "execution_count": 2,
   "metadata": {},
   "outputs": [
    {
     "name": "stdout",
     "output_type": "stream",
     "text": [
      "<UserInfo id(1), gender(F), age(1), job(10)>\n"
     ]
    },
    {
     "name": "stderr",
     "output_type": "stream",
     "text": [
      "\n"
     ]
    }
   ],
   "source": [
    "user_info = paddle.dataset.movielens.user_info()\n",
    "print user_info.values()[0]"
   ]
  },
  {
   "cell_type": "markdown",
   "metadata": {},
   "source": [
    "### 3. 对于每一条训练/测试数据，均为 <用户特征> + <电影特征> + 评分"
   ]
  },
  {
   "cell_type": "code",
   "execution_count": 3,
   "metadata": {},
   "outputs": [
    {
     "name": "stdout",
     "output_type": "stream",
     "text": [
      "User <UserInfo id(1), gender(F), age(1), job(10)> rates Movie <MovieInfo id(1193), title(One Flew Over the Cuckoo's Nest ), categories([u'Drama'])> with Score [5.0]\n"
     ]
    },
    {
     "name": "stderr",
     "output_type": "stream",
     "text": [
      "\n"
     ]
    }
   ],
   "source": [
    "train_set_creator = paddle.dataset.movielens.train()\n",
    "train_sample = next(train_set_creator())\n",
    "uid = train_sample[0]\n",
    "mov_id = train_sample[len(user_info[uid].value())]\n",
    "print \"User %s rates Movie %s with Score %s\"%(user_info[uid], movie_info[mov_id], train_sample[-1])"
   ]
  },
  {
   "cell_type": "markdown",
   "metadata": {},
   "source": [
    "### 4. 模型配置说明\n",
    "下面我们开始根据输入数据的形式配置模型。首先引入所需的库函数以及定义全局变量。"
   ]
  },
  {
   "cell_type": "code",
   "execution_count": 4,
   "metadata": {},
   "outputs": [],
   "source": [
    "from __future__ import print_function\n",
    "import math\n",
    "import sys\n",
    "import numpy as np\n",
    "import paddle\n",
    "import paddle.fluid as fluid\n",
    "import paddle.fluid.layers as layers\n",
    "import paddle.fluid.nets as nets\n",
    "\n",
    "IS_SPARSE = True\n",
    "USE_GPU = False\n",
    "BATCH_SIZE = 256"
   ]
  },
  {
   "cell_type": "markdown",
   "metadata": {},
   "source": [
    "### 4.2 然后为我们的用户特征综合模型定义模型配置"
   ]
  },
  {
   "cell_type": "code",
   "execution_count": 5,
   "metadata": {},
   "outputs": [],
   "source": [
    "def get_usr_combined_features():\n",
    "\n",
    "    USR_DICT_SIZE = paddle.dataset.movielens.max_user_id() + 1\n",
    "\n",
    "    uid = layers.data(name='user_id', shape=[1], dtype='int64')\n",
    "\n",
    "    usr_emb = layers.embedding(\n",
    "        input=uid,\n",
    "        dtype='float32',\n",
    "        size=[USR_DICT_SIZE, 32],\n",
    "        param_attr='user_table',\n",
    "        is_sparse=IS_SPARSE)\n",
    "\n",
    "    usr_fc = layers.fc(input=usr_emb, size=32)\n",
    "\n",
    "    USR_GENDER_DICT_SIZE = 2\n",
    "\n",
    "    usr_gender_id = layers.data(name='gender_id', shape=[1], dtype='int64')\n",
    "\n",
    "    usr_gender_emb = layers.embedding(\n",
    "        input=usr_gender_id,\n",
    "        size=[USR_GENDER_DICT_SIZE, 16],\n",
    "        param_attr='gender_table',\n",
    "        is_sparse=IS_SPARSE)\n",
    "\n",
    "    usr_gender_fc = layers.fc(input=usr_gender_emb, size=16)\n",
    "\n",
    "    USR_AGE_DICT_SIZE = len(paddle.dataset.movielens.age_table)\n",
    "    usr_age_id = layers.data(name='age_id', shape=[1], dtype=\"int64\")\n",
    "\n",
    "    usr_age_emb = layers.embedding(\n",
    "        input=usr_age_id,\n",
    "        size=[USR_AGE_DICT_SIZE, 16],\n",
    "        is_sparse=IS_SPARSE,\n",
    "        param_attr='age_table')\n",
    "\n",
    "    usr_age_fc = layers.fc(input=usr_age_emb, size=16)\n",
    "\n",
    "    USR_JOB_DICT_SIZE = paddle.dataset.movielens.max_job_id() + 1\n",
    "    usr_job_id = layers.data(name='job_id', shape=[1], dtype=\"int64\")\n",
    "\n",
    "    usr_job_emb = layers.embedding(\n",
    "        input=usr_job_id,\n",
    "        size=[USR_JOB_DICT_SIZE, 16],\n",
    "        param_attr='job_table',\n",
    "        is_sparse=IS_SPARSE)\n",
    "\n",
    "    usr_job_fc = layers.fc(input=usr_job_emb, size=16)\n",
    "\n",
    "    concat_embed = layers.concat(\n",
    "        input=[usr_fc, usr_gender_fc, usr_age_fc, usr_job_fc], axis=1)\n",
    "\n",
    "    usr_combined_features = layers.fc(input=concat_embed, size=200, act=\"tanh\")\n",
    "\n",
    "    return usr_combined_features"
   ]
  },
  {
   "cell_type": "markdown",
   "metadata": {},
   "source": [
    "### 4.3 对每一个电影特征做类似的变换"
   ]
  },
  {
   "cell_type": "code",
   "execution_count": 6,
   "metadata": {},
   "outputs": [],
   "source": [
    "def get_mov_combined_features():\n",
    "\n",
    "    MOV_DICT_SIZE = paddle.dataset.movielens.max_movie_id() + 1\n",
    "\n",
    "    mov_id = layers.data(name='movie_id', shape=[1], dtype='int64')\n",
    "\n",
    "    mov_emb = layers.embedding(\n",
    "        input=mov_id,\n",
    "        dtype='float32',\n",
    "        size=[MOV_DICT_SIZE, 32],\n",
    "        param_attr='movie_table',\n",
    "        is_sparse=IS_SPARSE)\n",
    "\n",
    "    mov_fc = layers.fc(input=mov_emb, size=32)\n",
    "\n",
    "    CATEGORY_DICT_SIZE = len(paddle.dataset.movielens.movie_categories())\n",
    "\n",
    "    category_id = layers.data(\n",
    "        name='category_id', shape=[1], dtype='int64', lod_level=1)\n",
    "\n",
    "    mov_categories_emb = layers.embedding(\n",
    "        input=category_id, size=[CATEGORY_DICT_SIZE, 32], is_sparse=IS_SPARSE)\n",
    "\n",
    "    mov_categories_hidden = layers.sequence_pool(\n",
    "        input=mov_categories_emb, pool_type=\"sum\")\n",
    "\n",
    "    MOV_TITLE_DICT_SIZE = len(paddle.dataset.movielens.get_movie_title_dict())\n",
    "\n",
    "    mov_title_id = layers.data(\n",
    "        name='movie_title', shape=[1], dtype='int64', lod_level=1)\n",
    "\n",
    "    mov_title_emb = layers.embedding(\n",
    "        input=mov_title_id, size=[MOV_TITLE_DICT_SIZE, 32], is_sparse=IS_SPARSE)\n",
    "\n",
    "    mov_title_conv = nets.sequence_conv_pool(\n",
    "        input=mov_title_emb,\n",
    "        num_filters=32,\n",
    "        filter_size=3,\n",
    "        act=\"tanh\",\n",
    "        pool_type=\"sum\")\n",
    "\n",
    "    concat_embed = layers.concat(\n",
    "        input=[mov_fc, mov_categories_hidden, mov_title_conv], axis=1)\n",
    "\n",
    "    mov_combined_features = layers.fc(input=concat_embed, size=200, act=\"tanh\")\n",
    "\n",
    "    return mov_combined_features"
   ]
  },
  {
   "cell_type": "markdown",
   "metadata": {},
   "source": [
    "### 4.4 我们定义一个inference_program来使用余弦相似度计算用户特征与电影特征的相似性"
   ]
  },
  {
   "cell_type": "code",
   "execution_count": 7,
   "metadata": {},
   "outputs": [],
   "source": [
    "def inference_program():\n",
    "    usr_combined_features = get_usr_combined_features()\n",
    "    mov_combined_features = get_mov_combined_features()\n",
    "\n",
    "    inference = layers.cos_sim(X=usr_combined_features, Y=mov_combined_features)\n",
    "    scale_infer = layers.scale(x=inference, scale=5.0)\n",
    "\n",
    "    return scale_infer"
   ]
  },
  {
   "cell_type": "code",
   "execution_count": 8,
   "metadata": {},
   "outputs": [],
   "source": [
    "def train_program():\n",
    "\n",
    "    scale_infer = inference_program()\n",
    "\n",
    "    label = layers.data(name='score', shape=[1], dtype='float32')\n",
    "    square_cost = layers.square_error_cost(input=scale_infer, label=label)\n",
    "    avg_cost = layers.mean(square_cost)\n",
    "\n",
    "    return [avg_cost, scale_infer]\n",
    "\n",
    "\n",
    "def optimizer_func():\n",
    "    return fluid.optimizer.SGD(learning_rate=0.2)"
   ]
  },
  {
   "cell_type": "markdown",
   "metadata": {},
   "source": [
    "### 5. train model"
   ]
  },
  {
   "cell_type": "code",
   "execution_count": 9,
   "metadata": {},
   "outputs": [],
   "source": [
    "use_cuda = False\n",
    "place = fluid.CUDAPlace(0) if use_cuda else fluid.CPUPlace()"
   ]
  },
  {
   "cell_type": "code",
   "execution_count": 10,
   "metadata": {},
   "outputs": [],
   "source": [
    "train_reader = paddle.batch(\n",
    "    paddle.reader.shuffle(\n",
    "        paddle.dataset.movielens.train(), buf_size=8192),\n",
    "    batch_size=BATCH_SIZE)\n",
    "\n",
    "test_reader = paddle.batch(\n",
    "    paddle.dataset.movielens.test(), batch_size=BATCH_SIZE)"
   ]
  },
  {
   "cell_type": "code",
   "execution_count": 11,
   "metadata": {},
   "outputs": [],
   "source": [
    "feed_order = [\n",
    "    'user_id', 'gender_id', 'age_id', 'job_id', 'movie_id', 'category_id',\n",
    "    'movie_title', 'score'\n",
    "]"
   ]
  },
  {
   "cell_type": "code",
   "execution_count": 12,
   "metadata": {},
   "outputs": [
    {
     "name": "stderr",
     "output_type": "stream",
     "text": [
      "\n",
      "\n",
      "\n",
      "\n",
      "\n"
     ]
    }
   ],
   "source": [
    "main_program = fluid.default_main_program()\n",
    "star_program = fluid.default_startup_program()\n",
    "[avg_cost, scale_infer] = train_program()\n",
    "\n",
    "test_program = main_program.clone(for_test=True)\n",
    "sgd_optimizer = optimizer_func()\n",
    "sgd_optimizer.minimize(avg_cost)\n",
    "exe = fluid.Executor(place)\n",
    "\n",
    "def train_test(program, reader):\n",
    "    count = 0\n",
    "    feed_var_list = [\n",
    "        program.global_block().var(var_name) for var_name in feed_order\n",
    "    ]\n",
    "    feeder_test = fluid.DataFeeder(\n",
    "    feed_list=feed_var_list, place=place)\n",
    "    test_exe = fluid.Executor(place)\n",
    "    accumulated = len([avg_cost, scale_infer]) * [0]\n",
    "    for test_data in reader():\n",
    "        avg_cost_np = test_exe.run(program=program,\n",
    "                                               feed=feeder_test.feed(test_data),\n",
    "                                               fetch_list=[avg_cost, scale_infer])\n",
    "        accumulated = [x[0] + x[1][0] for x in zip(accumulated, avg_cost_np)]\n",
    "        count += 1\n",
    "    return [x / count for x in accumulated]\n"
   ]
  },
  {
   "cell_type": "code",
   "execution_count": 15,
   "metadata": {},
   "outputs": [],
   "source": [
    "PASS_NUM = 10\n",
    "# Specify the directory path to save the parameters\n",
    "params_dirname = \"recommender_system.inference.model\"\n",
    "\n",
    "from paddle.utils.plot import Ploter\n",
    "test_prompt = \"Test cost\"\n",
    "plot_cost = Ploter(test_prompt)\n",
    "\n",
    "def train_loop():\n",
    "    feed_list = [\n",
    "        main_program.global_block().var(var_name) for var_name in feed_order\n",
    "    ]\n",
    "    feeder = fluid.DataFeeder(feed_list, place)\n",
    "    exe.run(star_program)\n",
    "\n",
    "    for pass_id in range(PASS_NUM):\n",
    "        for batch_id, data in enumerate(train_reader()):\n",
    "            # train a mini-batch\n",
    "            outs = exe.run(program=main_program,\n",
    "                               feed=feeder.feed(data),\n",
    "                               fetch_list=[avg_cost])\n",
    "            out = np.array(outs[0])\n",
    "\n",
    "            avg_cost_set = train_test(test_program, test_reader)\n",
    "\n",
    "            # get test avg_cost\n",
    "            test_avg_cost = np.array(avg_cost_set).mean()\n",
    "            plot_cost.append(test_prompt, batch_id, outs[0])\n",
    "            plot_cost.plot()\n",
    "            print(\"avg_cost: %s\" % test_avg_cost)\n",
    "\n",
    "            if batch_id == 20:\n",
    "                if params_dirname is not None:\n",
    "                    fluid.io.save_inference_model(params_dirname, [\n",
    "                                \"user_id\", \"gender_id\", \"age_id\", \"job_id\",\n",
    "                                \"movie_id\", \"category_id\", \"movie_title\"\n",
    "                        ], [scale_infer], exe)\n",
    "                return\n",
    "            else:\n",
    "                print('BatchID {0}, Test Loss {1:0.2}'.format(pass_id + 1,\n",
    "                                                                  float(test_avg_cost)))\n",
    "\n",
    "            if math.isnan(float(out[0])):\n",
    "                sys.exit(\"got NaN loss, training failed.\")"
   ]
  },
  {
   "cell_type": "code",
   "execution_count": 16,
   "metadata": {
    "scrolled": true
   },
   "outputs": [
    {
     "data": {
      "image/png": "[encoded data removed]",
      "text/plain": [
       "<Figure size 432x288 with 1 Axes>"
      ]
     },
     "metadata": {},
     "output_type": "display_data"
    },
    {
     "name": "stdout",
     "output_type": "stream",
     "text": [
      "avg_cost: 3.6256474942502463\n"
     ]
    },
    {
     "data": {
      "text/plain": [
       "<Figure size 432x288 with 0 Axes>"
      ]
     },
     "metadata": {},
     "output_type": "display_data"
    }
   ],
   "source": [
    "train_loop()"
   ]
  },
  {
   "cell_type": "code",
   "execution_count": 17,
   "metadata": {},
   "outputs": [
    {
     "name": "stderr",
     "output_type": "stream",
     "text": [
      "\n"
     ]
    }
   ],
   "source": [
    "infer_movie_id = 783\n",
    "infer_movie_name = paddle.dataset.movielens.movie_info()[infer_movie_id].title\n",
    "user_id = fluid.create_lod_tensor([[1]], [[1]], place)\n",
    "gender_id = fluid.create_lod_tensor([[1]], [[1]], place)\n",
    "age_id = fluid.create_lod_tensor([[0]], [[1]], place)\n",
    "job_id = fluid.create_lod_tensor([[10]], [[1]], place)\n",
    "movie_id = fluid.create_lod_tensor([[783]], [[1]], place) # Hunchback of Notre Dame\n",
    "category_id = fluid.create_lod_tensor([[10, 8, 9]], [[3]], place) # Animation, Children's, Musical\n",
    "movie_title = fluid.create_lod_tensor([[1069, 4140, 2923, 710, 988]], [[5]],\n",
    "                                      place) # 'hunchback','of','notre','dame','the'"
   ]
  },
  {
   "cell_type": "code",
   "execution_count": 18,
   "metadata": {},
   "outputs": [],
   "source": [
    "place = fluid.CUDAPlace(0) if use_cuda else fluid.CPUPlace()\n",
    "exe = fluid.Executor(place)\n",
    "\n",
    "inference_scope = fluid.core.Scope()"
   ]
  },
  {
   "cell_type": "code",
   "execution_count": 19,
   "metadata": {},
   "outputs": [
    {
     "name": "stdout",
     "output_type": "stream",
     "text": [
      "Predict Rating of user id 1 on movie \"Hunchback of Notre Dame, The \" is 2.199356\n",
      "Actual Rating of user id 1 on movie \"Hunchback of Notre Dame, The \" is 4.\n"
     ]
    }
   ],
   "source": [
    "with fluid.scope_guard(inference_scope):\n",
    "    [inferencer, feed_target_names,\n",
    "    fetch_targets] = fluid.io.load_inference_model(params_dirname, exe)\n",
    "\n",
    "    results = exe.run(inferencer,\n",
    "                          feed={\n",
    "                               'user_id': user_id,\n",
    "                              'gender_id': gender_id,\n",
    "                              'age_id': age_id,\n",
    "                              'job_id': job_id,\n",
    "                              'movie_id': movie_id,\n",
    "                              'category_id': category_id,\n",
    "                              'movie_title': movie_title\n",
    "                          },\n",
    "                          fetch_list=fetch_targets,\n",
    "                          return_numpy=False)\n",
    "    predict_rating = np.array(results[0])\n",
    "    print(\"Predict Rating of user id 1 on movie \\\"\" + infer_movie_name +\n",
    "              \"\\\" is \" + str(predict_rating[0][0]))\n",
    "    print(\"Actual Rating of user id 1 on movie \\\"\" + infer_movie_name +\n",
    "              \"\\\" is 4.\")\n"
   ]
  },
  {
   "cell_type": "code",
   "execution_count": null,
   "metadata": {},
   "outputs": [],
   "source": []
  }
 ],
 "metadata": {
  "kernelspec": {
   "display_name": "Python 2",
   "language": "python",
   "name": "python2"
  },
  "language_info": {
   "codemirror_mode": {
    "name": "ipython",
    "version": 2
   },
   "file_extension": ".py",
   "mimetype": "text/x-python",
   "name": "python",
   "nbconvert_exporter": "python",
   "pygments_lexer": "ipython2",
   "version": "2.7.13"
  }
 },
 "nbformat": 4,
 "nbformat_minor": 2
}
